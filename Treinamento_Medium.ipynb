{
  "nbformat": 4,
  "nbformat_minor": 0,
  "metadata": {
    "colab": {
      "name": "Copy of Untitled1.ipynb",
      "version": "0.3.2",
      "provenance": [],
      "include_colab_link": true
    },
    "kernelspec": {
      "name": "python3",
      "display_name": "Python 3"
    }
  },
  "cells": [
    {
      "cell_type": "markdown",
      "metadata": {
        "id": "view-in-github",
        "colab_type": "text"
      },
      "source": [
        "<a href=\"https://colab.research.google.com/github/HenryMameds/Escola/blob/master/Treinamento_Medium.ipynb\" target=\"_parent\"><img src=\"https://colab.research.google.com/assets/colab-badge.svg\" alt=\"Open In Colab\"/></a>"
      ]
    },
    {
      "cell_type": "code",
      "metadata": {
        "id": "k5ggQylsq4w-",
        "colab_type": "code",
        "colab": {}
      },
      "source": [
        "#Import das Bibliotecas\n",
        "\n",
        "#Libraries import\n",
        "\n",
        "import pandas as pd\n",
        "import numpy as np\n",
        "import matplotlib.pyplot as plt\n",
        "\n",
        "%matplotlib inline"
      ],
      "execution_count": 0,
      "outputs": []
    },
    {
      "cell_type": "markdown",
      "metadata": {
        "id": "nl3i7_YVx8ao",
        "colab_type": "text"
      },
      "source": [
        "# **Series**"
      ]
    },
    {
      "cell_type": "code",
      "metadata": {
        "id": "YHie0u2xsYWU",
        "colab_type": "code",
        "colab": {}
      },
      "source": [
        "notas = pd.Series([2,7,5,10,6])"
      ],
      "execution_count": 0,
      "outputs": []
    },
    {
      "cell_type": "code",
      "metadata": {
        "id": "FyjO6T9isboM",
        "colab_type": "code",
        "colab": {}
      },
      "source": [
        "notas"
      ],
      "execution_count": 0,
      "outputs": []
    },
    {
      "cell_type": "code",
      "metadata": {
        "id": "zkRIGU9vsj8M",
        "colab_type": "code",
        "colab": {}
      },
      "source": [
        "notas.values"
      ],
      "execution_count": 0,
      "outputs": []
    },
    {
      "cell_type": "code",
      "metadata": {
        "id": "sxBr8n6qs-Bz",
        "colab_type": "code",
        "colab": {}
      },
      "source": [
        "notas.index"
      ],
      "execution_count": 0,
      "outputs": []
    },
    {
      "cell_type": "code",
      "metadata": {
        "id": "FxnD-eAwtBV9",
        "colab_type": "code",
        "colab": {}
      },
      "source": [
        "notas = pd.Series([2,7,5,10,6], index=[\"Wilfred\", \"Abbie\", \"Harry\", \"Julia\", \"Carrie\"])"
      ],
      "execution_count": 0,
      "outputs": []
    },
    {
      "cell_type": "code",
      "metadata": {
        "id": "1D0wJsCdtiTb",
        "colab_type": "code",
        "colab": {}
      },
      "source": [
        "notas"
      ],
      "execution_count": 0,
      "outputs": []
    },
    {
      "cell_type": "code",
      "metadata": {
        "id": "pHWBsd_Itojb",
        "colab_type": "code",
        "colab": {}
      },
      "source": [
        "notas[\"Julia\"]"
      ],
      "execution_count": 0,
      "outputs": []
    },
    {
      "cell_type": "code",
      "metadata": {
        "id": "AgrencZXtzBD",
        "colab_type": "code",
        "colab": {}
      },
      "source": [
        "print(\"Média: \", notas.mean())\n",
        "print(\"Desvio padão: \", notas.std())"
      ],
      "execution_count": 0,
      "outputs": []
    },
    {
      "cell_type": "code",
      "metadata": {
        "id": "6Gc9VnrvuJ5T",
        "colab_type": "code",
        "colab": {}
      },
      "source": [
        "notas.describe()"
      ],
      "execution_count": 0,
      "outputs": []
    },
    {
      "cell_type": "code",
      "metadata": {
        "id": "Df6GVl6WuVta",
        "colab_type": "code",
        "colab": {}
      },
      "source": [
        "notas**2"
      ],
      "execution_count": 0,
      "outputs": []
    },
    {
      "cell_type": "code",
      "metadata": {
        "id": "rh-9sYseuXuS",
        "colab_type": "code",
        "colab": {}
      },
      "source": [
        "np.log(notas)"
      ],
      "execution_count": 0,
      "outputs": []
    },
    {
      "cell_type": "markdown",
      "metadata": {
        "id": "eptDwosoxh1C",
        "colab_type": "text"
      },
      "source": [
        "# **DataFrame**"
      ]
    },
    {
      "cell_type": "code",
      "metadata": {
        "id": "yQgcyHJtuzyq",
        "colab_type": "code",
        "colab": {}
      },
      "source": [
        "df = pd.DataFrame({'Aluno' : [\"Wilfred\", \"Abbie\", \"Harry\", \"Julia\", \"Carrie\"],\n",
        "                  'Faltas' : [3,4,2,1,4],\n",
        "                  'Prova' : [2,7,5,10,6],\n",
        "                  'Seminário' : [8.5,7.5,9.0,7.5,8.0]})"
      ],
      "execution_count": 0,
      "outputs": []
    },
    {
      "cell_type": "code",
      "metadata": {
        "id": "WirGnUy2vhYD",
        "colab_type": "code",
        "colab": {}
      },
      "source": [
        "df"
      ],
      "execution_count": 0,
      "outputs": []
    },
    {
      "cell_type": "code",
      "metadata": {
        "id": "PJR_9qVbvlqL",
        "colab_type": "code",
        "colab": {}
      },
      "source": [
        "df.dtypes"
      ],
      "execution_count": 0,
      "outputs": []
    },
    {
      "cell_type": "code",
      "metadata": {
        "id": "cfEsTEd4v0Za",
        "colab_type": "code",
        "colab": {}
      },
      "source": [
        "df.columns"
      ],
      "execution_count": 0,
      "outputs": []
    },
    {
      "cell_type": "code",
      "metadata": {
        "id": "xsb_MI-awAS8",
        "colab_type": "code",
        "colab": {}
      },
      "source": [
        "df[\"Seminário\"]"
      ],
      "execution_count": 0,
      "outputs": []
    },
    {
      "cell_type": "code",
      "metadata": {
        "id": "UTs7raTywLkK",
        "colab_type": "code",
        "colab": {}
      },
      "source": [
        "df.describe()"
      ],
      "execution_count": 0,
      "outputs": []
    },
    {
      "cell_type": "code",
      "metadata": {
        "id": "jVlUGsQTwSdH",
        "colab_type": "code",
        "colab": {}
      },
      "source": [
        "df.sort_values(by=\"Seminário\")"
      ],
      "execution_count": 0,
      "outputs": []
    },
    {
      "cell_type": "code",
      "metadata": {
        "id": "7B23PJvAwkfl",
        "colab_type": "code",
        "colab": {}
      },
      "source": [
        "df"
      ],
      "execution_count": 0,
      "outputs": []
    },
    {
      "cell_type": "code",
      "metadata": {
        "id": "e5lU7KzuwuR1",
        "colab_type": "code",
        "colab": {}
      },
      "source": [
        "df.loc[3]"
      ],
      "execution_count": 0,
      "outputs": []
    },
    {
      "cell_type": "code",
      "metadata": {
        "id": "kXWDN67xw2Tl",
        "colab_type": "code",
        "colab": {}
      },
      "source": [
        "df[ (df[\"Seminário\"] > 8.0) & (df[\"Prova\"] > 3) ]"
      ],
      "execution_count": 0,
      "outputs": []
    },
    {
      "cell_type": "markdown",
      "metadata": {
        "id": "VX2CSfWEyT4O",
        "colab_type": "text"
      },
      "source": [
        "# **Leitura de Dados**"
      ]
    },
    {
      "cell_type": "code",
      "metadata": {
        "id": "TJ7XBkW5yXVU",
        "colab_type": "code",
        "colab": {}
      },
      "source": [
        "dados = 'https://raw.githubusercontent.com/mvinoba/notebooks-for-binder/master/dados.csv'"
      ],
      "execution_count": 0,
      "outputs": []
    },
    {
      "cell_type": "code",
      "metadata": {
        "id": "xHKdID_L0cqO",
        "colab_type": "code",
        "colab": {}
      },
      "source": [
        "df = pd.read_csv(dados)"
      ],
      "execution_count": 0,
      "outputs": []
    },
    {
      "cell_type": "code",
      "metadata": {
        "id": "qax_Vov70eC2",
        "colab_type": "code",
        "colab": {}
      },
      "source": [
        "df"
      ],
      "execution_count": 0,
      "outputs": []
    },
    {
      "cell_type": "code",
      "metadata": {
        "id": "KuIaX5Kj0skG",
        "colab_type": "code",
        "colab": {}
      },
      "source": [
        "df.head()"
      ],
      "execution_count": 0,
      "outputs": []
    },
    {
      "cell_type": "code",
      "metadata": {
        "id": "FGIN3q4Y00Mu",
        "colab_type": "code",
        "colab": {}
      },
      "source": [
        "df.head(n=10)"
      ],
      "execution_count": 0,
      "outputs": []
    },
    {
      "cell_type": "code",
      "metadata": {
        "id": "JfwjlTYt1AyG",
        "colab_type": "code",
        "colab": {}
      },
      "source": [
        "df.tail()"
      ],
      "execution_count": 0,
      "outputs": []
    },
    {
      "cell_type": "markdown",
      "metadata": {
        "id": "3MVjquI71ISV",
        "colab_type": "text"
      },
      "source": [
        "# **Manipulação de Dados**"
      ]
    },
    {
      "cell_type": "code",
      "metadata": {
        "id": "1f7wp-jJ1Ll1",
        "colab_type": "code",
        "colab": {}
      },
      "source": [
        "df[\"bairro\"].unique()"
      ],
      "execution_count": 0,
      "outputs": []
    },
    {
      "cell_type": "code",
      "metadata": {
        "id": "Nbm3PJVW1nxM",
        "colab_type": "code",
        "colab": {}
      },
      "source": [
        "df[\"bairro\"].value_counts()"
      ],
      "execution_count": 0,
      "outputs": []
    },
    {
      "cell_type": "code",
      "metadata": {
        "id": "7BdFoA-k2DSt",
        "colab_type": "code",
        "colab": {}
      },
      "source": [
        "df[\"bairro\"].value_counts(normalize=True)"
      ],
      "execution_count": 0,
      "outputs": []
    },
    {
      "cell_type": "code",
      "metadata": {
        "id": "5bjk2A7Y2xpq",
        "colab_type": "code",
        "colab": {}
      },
      "source": [
        "df.groupby(\"bairro\").mean()"
      ],
      "execution_count": 0,
      "outputs": []
    },
    {
      "cell_type": "code",
      "metadata": {
        "id": "ZAjeXvlN3b7y",
        "colab_type": "code",
        "colab": {}
      },
      "source": [
        "df.groupby(\"bairro\").mean()[\"pm2\"].sort_values()"
      ],
      "execution_count": 0,
      "outputs": []
    },
    {
      "cell_type": "code",
      "metadata": {
        "id": "_NKMZK3b3lGC",
        "colab_type": "code",
        "colab": {}
      },
      "source": [
        "def truncar(bairro):\n",
        "  return bairro[:3]\n",
        "\n",
        "df [\"bairro\"].apply(truncar)"
      ],
      "execution_count": 0,
      "outputs": []
    },
    {
      "cell_type": "code",
      "metadata": {
        "id": "2111wMbo4wYP",
        "colab_type": "code",
        "colab": {}
      },
      "source": [
        "df[\"bairro\"].apply(lambda x: x[:3])"
      ],
      "execution_count": 0,
      "outputs": []
    },
    {
      "cell_type": "code",
      "metadata": {
        "id": "-o1pIalM5KNX",
        "colab_type": "code",
        "colab": {}
      },
      "source": [
        "df2 = df.head()\n",
        "df2 = df2.replace({\"pm2\": {12031.25: np.nan}})\n",
        "df2"
      ],
      "execution_count": 0,
      "outputs": []
    },
    {
      "cell_type": "code",
      "metadata": {
        "id": "D70-Eia45nwf",
        "colab_type": "code",
        "colab": {}
      },
      "source": [
        "df2.dropna()"
      ],
      "execution_count": 0,
      "outputs": []
    },
    {
      "cell_type": "code",
      "metadata": {
        "id": "Og5yxkx35xWX",
        "colab_type": "code",
        "colab": {}
      },
      "source": [
        "df2.fillna(99)"
      ],
      "execution_count": 0,
      "outputs": []
    },
    {
      "cell_type": "code",
      "metadata": {
        "id": "hv7ZluHW54rx",
        "colab_type": "code",
        "colab": {}
      },
      "source": [
        "df2.isna()"
      ],
      "execution_count": 0,
      "outputs": []
    },
    {
      "cell_type": "markdown",
      "metadata": {
        "id": "pjs6kegf6Hf6",
        "colab_type": "text"
      },
      "source": [
        "# **Visualização de Dados**"
      ]
    },
    {
      "cell_type": "code",
      "metadata": {
        "id": "2W-KT5DJ6IR_",
        "colab_type": "code",
        "outputId": "279fc8a3-1459-43c1-b1b6-af7e45906da9",
        "colab": {
          "base_uri": "https://localhost:8080/",
          "height": 292
        }
      },
      "source": [
        "df[\"preco\"].plot.hist()"
      ],
      "execution_count": 0,
      "outputs": [
        {
          "output_type": "execute_result",
          "data": {
            "text/plain": [
              "<matplotlib.axes._subplots.AxesSubplot at 0x7fb87398bcc0>"
            ]
          },
          "metadata": {
            "tags": []
          },
          "execution_count": 96
        },
        {
          "output_type": "display_data",
          "data": {
            "image/png": "[encoded data removed]",
            "text/plain": [
              "<Figure size 432x288 with 1 Axes>"
            ]
          },
          "metadata": {
            "tags": []
          }
        }
      ]
    },
    {
      "cell_type": "code",
      "metadata": {
        "id": "zp78PXlp6xcO",
        "colab_type": "code",
        "outputId": "12e8048e-c39f-4b82-b341-f0f48a6a07cf",
        "colab": {
          "base_uri": "https://localhost:8080/",
          "height": 292
        }
      },
      "source": [
        "df[\"preco\"].plot.hist(bins=30, edgecolor='black')"
      ],
      "execution_count": 0,
      "outputs": [
        {
          "output_type": "execute_result",
          "data": {
            "text/plain": [
              "<matplotlib.axes._subplots.AxesSubplot at 0x7fb8733eb0f0>"
            ]
          },
          "metadata": {
            "tags": []
          },
          "execution_count": 97
        },
        {
          "output_type": "display_data",
          "data": {
            "image/png": "[encoded data removed]",
            "text/plain": [
              "<Figure size 432x288 with 1 Axes>"
            ]
          },
          "metadata": {
            "tags": []
          }
        }
      ]
    },
    {
      "cell_type": "code",
      "metadata": {
        "id": "PVXQZT5I7MYX",
        "colab_type": "code",
        "outputId": "ff3d9a3b-c545-4bfc-e213-b13cd3912e8b",
        "colab": {
          "base_uri": "https://localhost:8080/",
          "height": 331
        }
      },
      "source": [
        "df[\"bairro\"].value_counts().plot.bar()"
      ],
      "execution_count": 0,
      "outputs": [
        {
          "output_type": "execute_result",
          "data": {
            "text/plain": [
              "<matplotlib.axes._subplots.AxesSubplot at 0x7fb872d7d630>"
            ]
          },
          "metadata": {
            "tags": []
          },
          "execution_count": 118
        },
        {
          "output_type": "display_data",
          "data": {
            "image/png": "[encoded data removed]",
            "text/plain": [
              "<Figure size 432x288 with 1 Axes>"
            ]
          },
          "metadata": {
            "tags": []
          }
        }
      ]
    },
    {
      "cell_type": "code",
      "metadata": {
        "id": "OLJnM9ek7yL_",
        "colab_type": "code",
        "outputId": "810c35c3-7082-4c58-8cd6-3de9bec88010",
        "colab": {
          "base_uri": "https://localhost:8080/",
          "height": 279
        }
      },
      "source": [
        "df[\"bairro\"].value_counts().plot.barh()"
      ],
      "execution_count": 0,
      "outputs": [
        {
          "output_type": "execute_result",
          "data": {
            "text/plain": [
              "<matplotlib.axes._subplots.AxesSubplot at 0x7fb8732d1eb8>"
            ]
          },
          "metadata": {
            "tags": []
          },
          "execution_count": 99
        },
        {
          "output_type": "display_data",
          "data": {
            "image/png": "[encoded data removed]",
            "text/plain": [
              "<Figure size 432x288 with 1 Axes>"
            ]
          },
          "metadata": {
            "tags": []
          }
        }
      ]
    },
    {
      "cell_type": "code",
      "metadata": {
        "id": "tWI43Dfe8AEH",
        "colab_type": "code",
        "outputId": "cdc7f01b-2eec-41bf-e16c-0fc568548c5e",
        "colab": {
          "base_uri": "https://localhost:8080/",
          "height": 296
        }
      },
      "source": [
        "df[\"bairro\"].value_counts().plot.barh(title=\"Número de apartamentos\")"
      ],
      "execution_count": 0,
      "outputs": [
        {
          "output_type": "execute_result",
          "data": {
            "text/plain": [
              "<matplotlib.axes._subplots.AxesSubplot at 0x7fb87325a6d8>"
            ]
          },
          "metadata": {
            "tags": []
          },
          "execution_count": 100
        },
        {
          "output_type": "display_data",
          "data": {
            "image/png": "[encoded data removed]",
            "text/plain": [
              "<Figure size 432x288 with 1 Axes>"
            ]
          },
          "metadata": {
            "tags": []
          }
        }
      ]
    },
    {
      "cell_type": "code",
      "metadata": {
        "id": "vGUmcAJX8TZP",
        "colab_type": "code",
        "outputId": "dde89bd9-68f6-4dce-dc60-7d743adb08b2",
        "colab": {
          "base_uri": "https://localhost:8080/",
          "height": 296
        }
      },
      "source": [
        "df.plot.scatter(x='preco', y='area')"
      ],
      "execution_count": 0,
      "outputs": [
        {
          "output_type": "execute_result",
          "data": {
            "text/plain": [
              "<matplotlib.axes._subplots.AxesSubplot at 0x7fb8731ce9b0>"
            ]
          },
          "metadata": {
            "tags": []
          },
          "execution_count": 101
        },
        {
          "output_type": "display_data",
          "data": {
            "image/png": "[encoded data removed]",
            "text/plain": [
              "<Figure size 432x288 with 1 Axes>"
            ]
          },
          "metadata": {
            "tags": []
          }
        }
      ]
    },
    {
      "cell_type": "code",
      "metadata": {
        "id": "VdpOpYT08oon",
        "colab_type": "code",
        "colab": {}
      },
      "source": [
        "plt.style.use('ggplot')"
      ],
      "execution_count": 0,
      "outputs": []
    },
    {
      "cell_type": "code",
      "metadata": {
        "id": "izsCTnym8ybN",
        "colab_type": "code",
        "outputId": "9bc4c17f-b321-4e6c-853b-129d9bc8acbe",
        "colab": {
          "base_uri": "https://localhost:8080/",
          "height": 296
        }
      },
      "source": [
        "df.plot.scatter(x='pm2', y='area')"
      ],
      "execution_count": 0,
      "outputs": [
        {
          "output_type": "execute_result",
          "data": {
            "text/plain": [
              "<matplotlib.axes._subplots.AxesSubplot at 0x7fb87318d3c8>"
            ]
          },
          "metadata": {
            "tags": []
          },
          "execution_count": 103
        },
        {
          "output_type": "display_data",
          "data": {
            "image/png": "[encoded data removed]",
            "text/plain": [
              "<Figure size 432x288 with 1 Axes>"
            ]
          },
          "metadata": {
            "tags": []
          }
        }
      ]
    },
    {
      "cell_type": "code",
      "metadata": {
        "id": "fgyMMef99MLG",
        "colab_type": "code",
        "colab": {}
      },
      "source": [
        "plt.style.available"
      ],
      "execution_count": 0,
      "outputs": []
    },
    {
      "cell_type": "code",
      "metadata": {
        "id": "lulbRU7Q9bfd",
        "colab_type": "code",
        "outputId": "ed1a64db-6106-4d64-bb50-5efde93ac575",
        "colab": {
          "base_uri": "https://localhost:8080/",
          "height": 265
        }
      },
      "source": [
        "df[\"quartos\"].value_counts().plot.pie()"
      ],
      "execution_count": 0,
      "outputs": [
        {
          "output_type": "execute_result",
          "data": {
            "text/plain": [
              "<matplotlib.axes._subplots.AxesSubplot at 0x7fb872d66c88>"
            ]
          },
          "metadata": {
            "tags": []
          },
          "execution_count": 119
        },
        {
          "output_type": "display_data",
          "data": {
            "image/png": "[encoded data removed]",
            "text/plain": [
              "<Figure size 432x288 with 1 Axes>"
            ]
          },
          "metadata": {
            "tags": []
          }
        }
      ]
    },
    {
      "cell_type": "code",
      "metadata": {
        "id": "ga82TMSv9vbN",
        "colab_type": "code",
        "outputId": "3c6e515f-21f7-46ac-88d1-f3e377307bf2",
        "colab": {
          "base_uri": "https://localhost:8080/",
          "height": 296
        }
      },
      "source": [
        "df.plot.scatter(x='preco', y='area', s=.5)"
      ],
      "execution_count": 0,
      "outputs": [
        {
          "output_type": "execute_result",
          "data": {
            "text/plain": [
              "<matplotlib.axes._subplots.AxesSubplot at 0x7fb873a298d0>"
            ]
          },
          "metadata": {
            "tags": []
          },
          "execution_count": 81
        },
        {
          "output_type": "display_data",
          "data": {
            "image/png": "[encoded data removed]",
            "text/plain": [
              "<Figure size 432x288 with 1 Axes>"
            ]
          },
          "metadata": {
            "tags": []
          }
        }
      ]
    },
    {
      "cell_type": "code",
      "metadata": {
        "id": "-Ir8xQYF-hNR",
        "colab_type": "code",
        "outputId": "74c8474b-a1d8-4a7d-c486-a0ddb6d115a2",
        "colab": {
          "base_uri": "https://localhost:8080/",
          "height": 296
        }
      },
      "source": [
        "df.sample(frac=.1).plot.scatter(x='preco', y='area')"
      ],
      "execution_count": 0,
      "outputs": [
        {
          "output_type": "execute_result",
          "data": {
            "text/plain": [
              "<matplotlib.axes._subplots.AxesSubplot at 0x7fb87397a780>"
            ]
          },
          "metadata": {
            "tags": []
          },
          "execution_count": 82
        },
        {
          "output_type": "display_data",
          "data": {
            "image/png": "[encoded data removed]",
            "text/plain": [
              "<Figure size 432x288 with 1 Axes>"
            ]
          },
          "metadata": {
            "tags": []
          }
        }
      ]
    },
    {
      "cell_type": "code",
      "metadata": {
        "id": "FXuzcds6-50l",
        "colab_type": "code",
        "outputId": "91e1ef2f-2160-4741-e60c-89be16634742",
        "colab": {
          "base_uri": "https://localhost:8080/",
          "height": 204
        }
      },
      "source": [
        "df = pd.DataFrame({'Aluno': [\"Wilfred\", \"Abbie\", \"Harry\", \"Julia\", \"Carrie\"],\n",
        "                    'Faltas': [3,4,2,1,4],\n",
        "                    'Prova': [2,7,5,10,6],\n",
        "                    'Seminário': [8.5,7.5,9.0,7.5,8.0]})\n",
        "df.to_csv(\"aulas.csv\")\n",
        "\n",
        "pd.read_csv(\"aulas.csv\")"
      ],
      "execution_count": 0,
      "outputs": [
        {
          "output_type": "execute_result",
          "data": {
            "text/html": [
              "<div>\n",
              "<style scoped>\n",
              "    .dataframe tbody tr th:only-of-type {\n",
              "        vertical-align: middle;\n",
              "    }\n",
              "\n",
              "    .dataframe tbody tr th {\n",
              "        vertical-align: top;\n",
              "    }\n",
              "\n",
              "    .dataframe thead th {\n",
              "        text-align: right;\n",
              "    }\n",
              "</style>\n",
              "<table border=\"1\" class=\"dataframe\">\n",
              "  <thead>\n",
              "    <tr style=\"text-align: right;\">\n",
              "      <th></th>\n",
              "      <th>Unnamed: 0</th>\n",
              "      <th>Aluno</th>\n",
              "      <th>Faltas</th>\n",
              "      <th>Prova</th>\n",
              "      <th>Seminário</th>\n",
              "    </tr>\n",
              "  </thead>\n",
              "  <tbody>\n",
              "    <tr>\n",
              "      <th>0</th>\n",
              "      <td>0</td>\n",
              "      <td>Wilfred</td>\n",
              "      <td>3</td>\n",
              "      <td>2</td>\n",
              "      <td>8.5</td>\n",
              "    </tr>\n",
              "    <tr>\n",
              "      <th>1</th>\n",
              "      <td>1</td>\n",
              "      <td>Abbie</td>\n",
              "      <td>4</td>\n",
              "      <td>7</td>\n",
              "      <td>7.5</td>\n",
              "    </tr>\n",
              "    <tr>\n",
              "      <th>2</th>\n",
              "      <td>2</td>\n",
              "      <td>Harry</td>\n",
              "      <td>2</td>\n",
              "      <td>5</td>\n",
              "      <td>9.0</td>\n",
              "    </tr>\n",
              "    <tr>\n",
              "      <th>3</th>\n",
              "      <td>3</td>\n",
              "      <td>Julia</td>\n",
              "      <td>1</td>\n",
              "      <td>10</td>\n",
              "      <td>7.5</td>\n",
              "    </tr>\n",
              "    <tr>\n",
              "      <th>4</th>\n",
              "      <td>4</td>\n",
              "      <td>Carrie</td>\n",
              "      <td>4</td>\n",
              "      <td>6</td>\n",
              "      <td>8.0</td>\n",
              "    </tr>\n",
              "  </tbody>\n",
              "</table>\n",
              "</div>"
            ],
            "text/plain": [
              "   Unnamed: 0    Aluno  Faltas  Prova  Seminário\n",
              "0           0  Wilfred       3      2        8.5\n",
              "1           1    Abbie       4      7        7.5\n",
              "2           2    Harry       2      5        9.0\n",
              "3           3    Julia       1     10        7.5\n",
              "4           4   Carrie       4      6        8.0"
            ]
          },
          "metadata": {
            "tags": []
          },
          "execution_count": 120
        }
      ]
    }
  ]
}